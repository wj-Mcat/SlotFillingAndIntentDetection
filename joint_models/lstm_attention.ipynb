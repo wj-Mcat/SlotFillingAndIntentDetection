{
 "cells": [
  {
   "cell_type": "markdown",
   "metadata": {
    "collapsed": true,
    "pycharm": {
     "name": "#%% md\n"
    }
   },
   "source": [
    "# LSTM + Attention\n",
    "\n",
    "LSTM 和 Attention 大家都还是比较熟悉，那如何在LSTM上获取动态的attention数据呢？"
   ]
  },
  {
   "cell_type": "code",
   "execution_count": 1,
   "metadata": {},
   "outputs": [
    {
     "name": "stderr",
     "output_type": "stream",
     "text": "Deprecated cache directory found (/Users/wujingwujing/.allennlp/datasets).  Please remove this directory from your system to free up space.\n"
    }
   ],
   "source": [
    "import torch\n",
    "from allennlp.modules.attention import DotProductAttention\n",
    "\n",
    "\n",
    "hidden_size = 67\n",
    "sequence_length = 34\n",
    "batch_size = 50\n",
    "\n",
    "hidden = None\n",
    "\n",
    "lstm = torch.nn.LSTM(input_size = 100 ,hidden_size = hidden_size, num_layers=1)\n",
    "x = torch.randn(batch_size, sequence_length, 100)\n",
    "\n",
    "x, hidden = lstm(x, hidden)"
   ]
  },
  {
   "cell_type": "markdown",
   "metadata": {},
   "source": [
    "# DotProductAttention"
   ]
  },
  {
   "cell_type": "code",
   "execution_count": 2,
   "metadata": {},
   "outputs": [
    {
     "name": "stdout",
     "output_type": "stream",
     "text": "torch.Size([50, 34])\n"
    }
   ],
   "source": [
    "attention_matrix = torch.randn(batch_size, hidden_size)\n",
    "\n",
    "attention = DotProductAttention(normalize=True)\n",
    "\n",
    "result = attention(attention_matrix, x)\n",
    "\n",
    "print(result.shape)"
   ]
  },
  {
   "cell_type": "markdown",
   "metadata": {},
   "source": [
    "# Linear-Attention "
   ]
  },
  {
   "cell_type": "code",
   "execution_count": 5,
   "metadata": {},
   "outputs": [
    {
     "name": "stdout",
     "output_type": "stream",
     "text": "torch.Size([50, 34, 67])\ntorch.Size([50, 50, 34])\ntorch.Size([50, 50, 34, 1])\n"
    }
   ],
   "source": [
    "from allennlp.modules.attention import LinearAttention\n",
    "\n",
    "attention = LinearAttention(tensor_1_dim = hidden_size, tensor_2_dim = hidden_size)\n",
    "\n",
    "print(x.shape)\n",
    "\n",
    "result = attention(x, x)\n",
    "\n",
    "print(result.shape)\n",
    "\n",
    "print(result.unsqueeze(-1).shape)"
   ]
  },
  {
   "cell_type": "markdown",
   "metadata": {},
   "source": [
    "# Cosine-Attention "
   ]
  },
  {
   "cell_type": "code",
   "execution_count": 35,
   "metadata": {},
   "outputs": [
    {
     "name": "stdout",
     "output_type": "stream",
     "text": "torch.Size([50, 34])\n"
    }
   ],
   "source": [
    "from allennlp.modules.attention import CosineAttention\n",
    "\n",
    "vector = torch.randn(batch_size, hidden_size)\n",
    "\n",
    "# print(inp.unsqueeze_(1).shape)\n",
    "\n",
    "attention = CosineAttention()\n",
    "result = attention(vector, x)\n",
    "print(result.shape)"
   ]
  }
 ],
 "metadata": {
  "kernelspec": {
   "display_name": "Python 3",
   "language": "python",
   "name": "python3"
  },
  "language_info": {
   "codemirror_mode": {
    "name": "ipython",
    "version": 2
   },
   "file_extension": ".py",
   "mimetype": "text/x-python",
   "name": "python",
   "nbconvert_exporter": "python",
   "pygments_lexer": "ipython2",
   "version": "3.7.5-final"
  },
  "pycharm": {
   "stem_cell": {
    "cell_type": "raw",
    "source": [],
    "metadata": {
     "collapsed": false
    }
   }
  }
 },
 "nbformat": 4,
 "nbformat_minor": 0
}